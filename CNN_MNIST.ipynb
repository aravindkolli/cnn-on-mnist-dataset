{
 "cells": [
  {
   "cell_type": "markdown",
   "metadata": {
    "colab_type": "text",
    "id": "ODhk0HUCZj_B"
   },
   "source": [
    "<h1>cnn on mnist dataset"
   ]
  },
  {
   "cell_type": "code",
   "execution_count": 0,
   "metadata": {
    "colab": {
     "base_uri": "https://localhost:8080/",
     "height": 787
    },
    "colab_type": "code",
    "id": "H9EU0e8yzFOm",
    "outputId": "c42c2808-83de-49bf-f249-ab69b9c44784"
   },
   "outputs": [
    {
     "name": "stderr",
     "output_type": "stream",
     "text": [
      "Using TensorFlow backend.\n"
     ]
    },
    {
     "name": "stdout",
     "output_type": "stream",
     "text": [
      "Downloading data from https://s3.amazonaws.com/img-datasets/mnist.npz\n",
      "11493376/11490434 [==============================] - 1s 0us/step\n",
      "x_train shape: (60000, 28, 28, 1)\n",
      "60000 train samples\n",
      "10000 test samples\n",
      "WARNING:tensorflow:From /usr/local/lib/python3.6/dist-packages/tensorflow/python/framework/op_def_library.py:263: colocate_with (from tensorflow.python.framework.ops) is deprecated and will be removed in a future version.\n",
      "Instructions for updating:\n",
      "Colocations handled automatically by placer.\n",
      "WARNING:tensorflow:From /usr/local/lib/python3.6/dist-packages/keras/backend/tensorflow_backend.py:3445: calling dropout (from tensorflow.python.ops.nn_ops) with keep_prob is deprecated and will be removed in a future version.\n",
      "Instructions for updating:\n",
      "Please use `rate` instead of `keep_prob`. Rate should be set to `rate = 1 - keep_prob`.\n",
      "WARNING:tensorflow:From /usr/local/lib/python3.6/dist-packages/tensorflow/python/ops/math_ops.py:3066: to_int32 (from tensorflow.python.ops.math_ops) is deprecated and will be removed in a future version.\n",
      "Instructions for updating:\n",
      "Use tf.cast instead.\n",
      "Train on 60000 samples, validate on 10000 samples\n",
      "Epoch 1/12\n",
      "60000/60000 [==============================] - 10s 173us/step - loss: 0.2330 - acc: 0.9267 - val_loss: 0.0524 - val_acc: 0.9839\n",
      "Epoch 2/12\n",
      "60000/60000 [==============================] - 5s 78us/step - loss: 0.0779 - acc: 0.9768 - val_loss: 0.0435 - val_acc: 0.9864\n",
      "Epoch 3/12\n",
      "60000/60000 [==============================] - 5s 78us/step - loss: 0.0600 - acc: 0.9822 - val_loss: 0.0293 - val_acc: 0.9899\n",
      "Epoch 4/12\n",
      "60000/60000 [==============================] - 5s 77us/step - loss: 0.0478 - acc: 0.9855 - val_loss: 0.0248 - val_acc: 0.9908\n",
      "Epoch 5/12\n",
      "60000/60000 [==============================] - 5s 78us/step - loss: 0.0409 - acc: 0.9876 - val_loss: 0.0243 - val_acc: 0.9916\n",
      "Epoch 6/12\n",
      "60000/60000 [==============================] - 5s 77us/step - loss: 0.0359 - acc: 0.9890 - val_loss: 0.0259 - val_acc: 0.9919\n",
      "Epoch 7/12\n",
      "60000/60000 [==============================] - 5s 78us/step - loss: 0.0330 - acc: 0.9903 - val_loss: 0.0303 - val_acc: 0.9896\n",
      "Epoch 8/12\n",
      "60000/60000 [==============================] - 5s 78us/step - loss: 0.0288 - acc: 0.9914 - val_loss: 0.0238 - val_acc: 0.9921\n",
      "Epoch 9/12\n",
      "60000/60000 [==============================] - 5s 79us/step - loss: 0.0272 - acc: 0.9919 - val_loss: 0.0224 - val_acc: 0.9928\n",
      "Epoch 10/12\n",
      "60000/60000 [==============================] - 5s 81us/step - loss: 0.0249 - acc: 0.9921 - val_loss: 0.0213 - val_acc: 0.9930\n",
      "Epoch 11/12\n",
      "60000/60000 [==============================] - 5s 81us/step - loss: 0.0230 - acc: 0.9930 - val_loss: 0.0226 - val_acc: 0.9931\n",
      "Epoch 12/12\n",
      "60000/60000 [==============================] - 5s 78us/step - loss: 0.0213 - acc: 0.9935 - val_loss: 0.0227 - val_acc: 0.9927\n",
      "Test loss: 0.022691776645601566\n",
      "Test accuracy: 0.9927\n"
     ]
    }
   ],
   "source": [
    "# Credits: https://github.com/keras-team/keras/blob/master/examples/mnist_cnn.py\n",
    "\n",
    "\n",
    "from __future__ import print_function\n",
    "import keras\n",
    "from keras.datasets import mnist\n",
    "from keras.models import Sequential\n",
    "from keras.layers import Dense, Dropout, Flatten\n",
    "from keras.layers import Conv2D, MaxPooling2D\n",
    "from keras import backend as K\n",
    "\n",
    "batch_size = 128\n",
    "num_classes = 10\n",
    "epochs = 12\n",
    "\n",
    "# input image dimensions\n",
    "img_rows, img_cols = 28, 28\n",
    "\n",
    "# the data, split between train and test sets\n",
    "(x_train, y_train), (x_test, y_test) = mnist.load_data()\n",
    "\n",
    "if K.image_data_format() == 'channels_first':\n",
    "    x_train = x_train.reshape(x_train.shape[0], 1, img_rows, img_cols)\n",
    "    x_test = x_test.reshape(x_test.shape[0], 1, img_rows, img_cols)\n",
    "    input_shape = (1, img_rows, img_cols)\n",
    "else:\n",
    "    x_train = x_train.reshape(x_train.shape[0], img_rows, img_cols, 1)\n",
    "    x_test = x_test.reshape(x_test.shape[0], img_rows, img_cols, 1)\n",
    "    input_shape = (img_rows, img_cols, 1)\n",
    "\n",
    "x_train = x_train.astype('float32')\n",
    "x_test = x_test.astype('float32')\n",
    "x_train /= 255\n",
    "x_test /= 255\n",
    "print('x_train shape:', x_train.shape)\n",
    "print(x_train.shape[0], 'train samples')\n",
    "print(x_test.shape[0], 'test samples')\n",
    "\n",
    "# convert class vectors to binary class matrices\n",
    "y_train = keras.utils.to_categorical(y_train, num_classes)\n",
    "y_test = keras.utils.to_categorical(y_test, num_classes)\n",
    "\n",
    "model = Sequential()\n",
    "model.add(Conv2D(32, kernel_size=(5, 5),\n",
    "                 activation='relu',\n",
    "                 input_shape=input_shape))\n",
    "model.add(Conv2D(64, (5, 5), activation='relu'))\n",
    "model.add(MaxPooling2D(pool_size=(2, 2)))\n",
    "model.add(Dropout(0.25))\n",
    "model.add(Flatten())\n",
    "model.add(Dense(128, activation='relu'))\n",
    "model.add(Dropout(0.5))\n",
    "model.add(Dense(num_classes, activation='softmax'))\n",
    "\n",
    "model.compile(loss=keras.losses.categorical_crossentropy,\n",
    "              optimizer=keras.optimizers.Adadelta(),\n",
    "              metrics=['accuracy'])\n",
    "\n",
    "model.fit(x_train, y_train,\n",
    "          batch_size=batch_size,\n",
    "          epochs=epochs,\n",
    "          verbose=1,\n",
    "          validation_data=(x_test, y_test))\n",
    "score = model.evaluate(x_test, y_test, verbose=0)\n",
    "print('Test loss:', score[0])\n",
    "print('Test accuracy:', score[1])"
   ]
  },
  {
   "cell_type": "code",
   "execution_count": 0,
   "metadata": {
    "colab": {},
    "colab_type": "code",
    "id": "QZn361kJRQ6Y"
   },
   "outputs": [],
   "source": [
    "%matplotlib inline\n",
    "import matplotlib.pyplot as plt\n",
    "import numpy as np\n",
    "import time\n",
    "# https://gist.github.com/greydanus/f6eee59eaf1d90fcb3b534a25362cea4\n",
    "# https://stackoverflow.com/a/14434334\n",
    "# this function is used to update the plots for each epoch and error\n",
    "def plt_dynamic(x, vy, ty, ax, colors=['b']):\n",
    "    ax.plot(x, vy, 'b', label=\"Validation Loss\")\n",
    "    ax.plot(x, ty, 'r', label=\"Train Loss\")\n",
    "    plt.legend()\n",
    "    plt.grid()\n",
    "    fig.canvas.draw()"
   ]
  },
  {
   "cell_type": "code",
   "execution_count": 0,
   "metadata": {
    "colab": {
     "base_uri": "https://localhost:8080/",
     "height": 464
    },
    "colab_type": "code",
    "id": "OJ0VfHHnSWzj",
    "outputId": "84fa4bf8-38be-4602-d8e9-8b3a053a14d5"
   },
   "outputs": [
    {
     "name": "stdout",
     "output_type": "stream",
     "text": [
      "Train on 60000 samples, validate on 10000 samples\n",
      "Epoch 1/12\n",
      "60000/60000 [==============================] - 5s 81us/step - loss: 0.0122 - acc: 0.9962 - val_loss: 0.0198 - val_acc: 0.9953\n",
      "Epoch 2/12\n",
      "60000/60000 [==============================] - 5s 78us/step - loss: 0.0117 - acc: 0.9965 - val_loss: 0.0197 - val_acc: 0.9944\n",
      "Epoch 3/12\n",
      "60000/60000 [==============================] - 5s 78us/step - loss: 0.0113 - acc: 0.9962 - val_loss: 0.0206 - val_acc: 0.9945\n",
      "Epoch 4/12\n",
      "60000/60000 [==============================] - 5s 78us/step - loss: 0.0113 - acc: 0.9961 - val_loss: 0.0245 - val_acc: 0.9945\n",
      "Epoch 5/12\n",
      "60000/60000 [==============================] - 5s 78us/step - loss: 0.0098 - acc: 0.9968 - val_loss: 0.0199 - val_acc: 0.9948\n",
      "Epoch 6/12\n",
      "60000/60000 [==============================] - 5s 78us/step - loss: 0.0106 - acc: 0.9968 - val_loss: 0.0211 - val_acc: 0.9945\n",
      "Epoch 7/12\n",
      "60000/60000 [==============================] - 5s 78us/step - loss: 0.0089 - acc: 0.9969 - val_loss: 0.0229 - val_acc: 0.9940\n",
      "Epoch 8/12\n",
      "60000/60000 [==============================] - 5s 80us/step - loss: 0.0090 - acc: 0.9971 - val_loss: 0.0217 - val_acc: 0.9954\n",
      "Epoch 9/12\n",
      "60000/60000 [==============================] - 5s 80us/step - loss: 0.0086 - acc: 0.9972 - val_loss: 0.0230 - val_acc: 0.9950\n",
      "Epoch 10/12\n",
      "60000/60000 [==============================] - 5s 77us/step - loss: 0.0093 - acc: 0.9971 - val_loss: 0.0204 - val_acc: 0.9953\n",
      "Epoch 11/12\n",
      "60000/60000 [==============================] - 5s 77us/step - loss: 0.0079 - acc: 0.9975 - val_loss: 0.0216 - val_acc: 0.9949\n",
      "Epoch 12/12\n",
      "60000/60000 [==============================] - 5s 77us/step - loss: 0.0089 - acc: 0.9972 - val_loss: 0.0196 - val_acc: 0.9953\n"
     ]
    }
   ],
   "source": [
    "history = model.fit(x_train, y_train, batch_size=batch_size, epochs=12, verbose=1, validation_data=(x_test, y_test))"
   ]
  },
  {
   "cell_type": "code",
   "execution_count": 0,
   "metadata": {
    "colab": {
     "base_uri": "https://localhost:8080/",
     "height": 319
    },
    "colab_type": "code",
    "id": "ceEzBZ_ORXa3",
    "outputId": "ef6721dc-2f8d-4f67-eaa2-c704696b9cfd"
   },
   "outputs": [
    {
     "name": "stdout",
     "output_type": "stream",
     "text": [
      "Test score: 0.022691776645601566\n",
      "Test accuracy: 0.9927\n"
     ]
    },
    {
     "data": {
      "image/png": "[encoded data removed]",
      "text/plain": [
       "<Figure size 432x288 with 1 Axes>"
      ]
     },
     "metadata": {
      "tags": []
     },
     "output_type": "display_data"
    }
   ],
   "source": [
    "print('Test score:', score[0]) \n",
    "print('Test accuracy:', score[1])\n",
    "\n",
    "fig,ax = plt.subplots(1,1)\n",
    "ax.set_xlabel('epoch') ; ax.set_ylabel('Categorical Crossentropy Loss')\n",
    "\n",
    "# list of epoch numbers\n",
    "x = list(range(1,13))\n",
    "\n",
    "# print(history.history.keys())\n",
    "# dict_keys(['val_loss', 'val_acc', 'loss', 'acc'])\n",
    "# history = model_drop.fit(X_train, Y_train, batch_size=batch_size, epochs=nb_epoch, verbose=1, validation_data=(X_test, Y_test))\n",
    "\n",
    "# we will get val_loss and val_acc only when you pass the paramter validation_data\n",
    "# val_loss : validation loss\n",
    "# val_acc : validation accuracy\n",
    "\n",
    "# loss : training loss\n",
    "# acc : train accuracy\n",
    "# for each key in histrory.histrory we will have a list of length equal to number of epochs\n",
    "\n",
    "\n",
    "vy = history.history['val_loss']\n",
    "ty = history.history['loss']\n",
    "plt_dynamic(x, vy, ty, ax)"
   ]
  },
  {
   "cell_type": "markdown",
   "metadata": {
    "colab_type": "text",
    "id": "OT67ZZGNUANO"
   },
   "source": [
    "<h1>Three Diff convnets"
   ]
  },
  {
   "cell_type": "markdown",
   "metadata": {
    "colab_type": "text",
    "id": "hE-BCaXPUH6F"
   },
   "source": [
    "<h3>M1:Three conv layers-(max-pool,batch-norm,drop-out)"
   ]
  },
  {
   "cell_type": "code",
   "execution_count": 0,
   "metadata": {
    "colab": {
     "base_uri": "https://localhost:8080/",
     "height": 1035
    },
    "colab_type": "code",
    "id": "wQvseCRKT3xq",
    "outputId": "b6e2578f-db66-43f8-f433-7b1ce0ac5098"
   },
   "outputs": [
    {
     "name": "stdout",
     "output_type": "stream",
     "text": [
      "_________________________________________________________________\n",
      "Layer (type)                 Output Shape              Param #   \n",
      "=================================================================\n",
      "conv2d_51 (Conv2D)           (None, 26, 26, 32)        320       \n",
      "_________________________________________________________________\n",
      "max_pooling2d_27 (MaxPooling (None, 13, 13, 32)        0         \n",
      "_________________________________________________________________\n",
      "conv2d_52 (Conv2D)           (None, 11, 11, 64)        18496     \n",
      "_________________________________________________________________\n",
      "conv2d_53 (Conv2D)           (None, 9, 9, 32)          18464     \n",
      "_________________________________________________________________\n",
      "max_pooling2d_28 (MaxPooling (None, 4, 4, 32)          0         \n",
      "_________________________________________________________________\n",
      "dropout_18 (Dropout)         (None, 4, 4, 32)          0         \n",
      "_________________________________________________________________\n",
      "flatten_7 (Flatten)          (None, 512)               0         \n",
      "_________________________________________________________________\n",
      "dense_11 (Dense)             (None, 128)               65664     \n",
      "_________________________________________________________________\n",
      "batch_normalization_5 (Batch (None, 128)               512       \n",
      "_________________________________________________________________\n",
      "dropout_19 (Dropout)         (None, 128)               0         \n",
      "_________________________________________________________________\n",
      "dense_12 (Dense)             (None, 10)                1290      \n",
      "=================================================================\n",
      "Total params: 104,746\n",
      "Trainable params: 104,490\n",
      "Non-trainable params: 256\n",
      "_________________________________________________________________\n",
      "None\n",
      "Train on 60000 samples, validate on 10000 samples\n",
      "Epoch 1/12\n",
      "60000/60000 [==============================] - 5s 87us/step - loss: 0.2426 - acc: 0.9259 - val_loss: 0.0420 - val_acc: 0.9864\n",
      "Epoch 2/12\n",
      "60000/60000 [==============================] - 4s 65us/step - loss: 0.0807 - acc: 0.9753 - val_loss: 0.0377 - val_acc: 0.9885\n",
      "Epoch 3/12\n",
      "60000/60000 [==============================] - 4s 64us/step - loss: 0.0607 - acc: 0.9815 - val_loss: 0.0256 - val_acc: 0.9911\n",
      "Epoch 4/12\n",
      "60000/60000 [==============================] - 4s 65us/step - loss: 0.0492 - acc: 0.9846 - val_loss: 0.0240 - val_acc: 0.9923\n",
      "Epoch 5/12\n",
      "60000/60000 [==============================] - 4s 64us/step - loss: 0.0437 - acc: 0.9864 - val_loss: 0.0267 - val_acc: 0.9903\n",
      "Epoch 6/12\n",
      "60000/60000 [==============================] - 4s 64us/step - loss: 0.0378 - acc: 0.9879 - val_loss: 0.0263 - val_acc: 0.9916\n",
      "Epoch 7/12\n",
      "60000/60000 [==============================] - 4s 64us/step - loss: 0.0341 - acc: 0.9890 - val_loss: 0.0223 - val_acc: 0.9934\n",
      "Epoch 8/12\n",
      "60000/60000 [==============================] - 4s 68us/step - loss: 0.0300 - acc: 0.9909 - val_loss: 0.0214 - val_acc: 0.9940\n",
      "Epoch 9/12\n",
      "60000/60000 [==============================] - 4s 71us/step - loss: 0.0279 - acc: 0.9914 - val_loss: 0.0320 - val_acc: 0.9911\n",
      "Epoch 10/12\n",
      "60000/60000 [==============================] - 4s 68us/step - loss: 0.0271 - acc: 0.9914 - val_loss: 0.0207 - val_acc: 0.9940\n",
      "Epoch 11/12\n",
      "60000/60000 [==============================] - 4s 64us/step - loss: 0.0261 - acc: 0.9917 - val_loss: 0.0207 - val_acc: 0.9935\n",
      "Epoch 12/12\n",
      "60000/60000 [==============================] - 4s 64us/step - loss: 0.0226 - acc: 0.9927 - val_loss: 0.0223 - val_acc: 0.9937\n",
      "Test loss: 0.022268649872068273\n",
      "Test accuracy: 0.9937\n"
     ]
    }
   ],
   "source": [
    "\n",
    "from keras.layers.normalization import BatchNormalization\n",
    "\n",
    "model1 = Sequential()\n",
    "model1.add(Conv2D(32, kernel_size=(3, 3),\n",
    "                 activation='relu',\n",
    "                 input_shape=input_shape))\n",
    "model1.add(MaxPooling2D(pool_size=(2, 2)))\n",
    "model1.add(Conv2D(64, (3, 3), activation='relu'))\n",
    "model1.add(Conv2D(32, (3, 3), activation='relu'))\n",
    "model1.add(MaxPooling2D(pool_size=(2, 2)))\n",
    "\n",
    "model1.add(Dropout(0.25))\n",
    "model1.add(Flatten())\n",
    "model1.add(Dense(128, activation='relu'))\n",
    "model1.add(BatchNormalization())\n",
    "model1.add(Dropout(0.5))\n",
    "model1.add(Dense(num_classes, activation='softmax'))\n",
    "\n",
    "print(model1.summary())\n",
    "\n",
    "model1.compile(loss=keras.losses.categorical_crossentropy,\n",
    "              optimizer=keras.optimizers.Adadelta(),\n",
    "              metrics=['accuracy'])\n",
    "\n",
    "history=model1.fit(x_train, y_train,batch_size=batch_size,epochs=epochs,verbose=1,validation_data=(x_test, y_test))\n",
    "score = model1.evaluate(x_test, y_test, verbose=0)\n",
    "print('Test loss:', score[0])\n",
    "print('Test accuracy:', score[1])"
   ]
  },
  {
   "cell_type": "code",
   "execution_count": 0,
   "metadata": {
    "colab": {
     "base_uri": "https://localhost:8080/",
     "height": 319
    },
    "colab_type": "code",
    "id": "0lYoIkq3asYp",
    "outputId": "676249fe-2a09-4c53-f6ff-e4c866f03225"
   },
   "outputs": [
    {
     "name": "stdout",
     "output_type": "stream",
     "text": [
      "Test score: 0.022268649872068273\n",
      "Test accuracy: 0.9937\n"
     ]
    },
    {
     "data": {
      "image/png": "[encoded data removed]",
      "text/plain": [
       "<Figure size 432x288 with 1 Axes>"
      ]
     },
     "metadata": {
      "tags": []
     },
     "output_type": "display_data"
    }
   ],
   "source": [
    "print('Test score:', score[0]) \n",
    "print('Test accuracy:', score[1])\n",
    "\n",
    "fig,ax = plt.subplots(1,1)\n",
    "ax.set_xlabel('epoch') ; ax.set_ylabel('Categorical Crossentropy Loss')\n",
    "\n",
    "# list of epoch numbers\n",
    "x = list(range(1,13))\n",
    "\n",
    "# print(history.history.keys())\n",
    "# dict_keys(['val_loss', 'val_acc', 'loss', 'acc'])\n",
    "# history = model_drop.fit(X_train, Y_train, batch_size=batch_size, epochs=nb_epoch, verbose=1, validation_data=(X_test, Y_test))\n",
    "\n",
    "# we will get val_loss and val_acc only when you pass the paramter validation_data\n",
    "# val_loss : validation loss\n",
    "# val_acc : validation accuracy\n",
    "\n",
    "# loss : training loss\n",
    "# acc : train accuracy\n",
    "# for each key in histrory.histrory we will have a list of length equal to number of epochs\n",
    "\n",
    "\n",
    "vy = history.history['val_loss']\n",
    "ty = history.history['loss']\n",
    "plt_dynamic(x, vy, ty, ax)"
   ]
  },
  {
   "cell_type": "markdown",
   "metadata": {
    "colab_type": "text",
    "id": "KgmAMt2Ra6Bs"
   },
   "source": [
    "<h3>M2:Five conv layers-(max-pool,drop-out,batch-norm)"
   ]
  },
  {
   "cell_type": "code",
   "execution_count": 0,
   "metadata": {
    "colab": {
     "base_uri": "https://localhost:8080/",
     "height": 1178
    },
    "colab_type": "code",
    "id": "SjfcMA2Ja5EI",
    "outputId": "cd03c960-c2ba-48e4-d6de-858cdb7d0d66"
   },
   "outputs": [
    {
     "name": "stdout",
     "output_type": "stream",
     "text": [
      "_________________________________________________________________\n",
      "Layer (type)                 Output Shape              Param #   \n",
      "=================================================================\n",
      "conv2d_54 (Conv2D)           (None, 28, 28, 8)         208       \n",
      "_________________________________________________________________\n",
      "max_pooling2d_29 (MaxPooling (None, 14, 14, 8)         0         \n",
      "_________________________________________________________________\n",
      "conv2d_55 (Conv2D)           (None, 14, 14, 16)        3216      \n",
      "_________________________________________________________________\n",
      "conv2d_56 (Conv2D)           (None, 10, 10, 32)        12832     \n",
      "_________________________________________________________________\n",
      "max_pooling2d_30 (MaxPooling (None, 5, 5, 32)          0         \n",
      "_________________________________________________________________\n",
      "dropout_20 (Dropout)         (None, 5, 5, 32)          0         \n",
      "_________________________________________________________________\n",
      "conv2d_57 (Conv2D)           (None, 5, 5, 64)          51264     \n",
      "_________________________________________________________________\n",
      "conv2d_58 (Conv2D)           (None, 1, 1, 64)          102464    \n",
      "_________________________________________________________________\n",
      "max_pooling2d_31 (MaxPooling (None, 1, 1, 64)          0         \n",
      "_________________________________________________________________\n",
      "dropout_21 (Dropout)         (None, 1, 1, 64)          0         \n",
      "_________________________________________________________________\n",
      "flatten_8 (Flatten)          (None, 64)                0         \n",
      "_________________________________________________________________\n",
      "dense_13 (Dense)             (None, 128)               8320      \n",
      "_________________________________________________________________\n",
      "batch_normalization_6 (Batch (None, 128)               512       \n",
      "_________________________________________________________________\n",
      "dropout_22 (Dropout)         (None, 128)               0         \n",
      "_________________________________________________________________\n",
      "dense_14 (Dense)             (None, 10)                1290      \n",
      "=================================================================\n",
      "Total params: 180,106\n",
      "Trainable params: 179,850\n",
      "Non-trainable params: 256\n",
      "_________________________________________________________________\n",
      "None\n",
      "Train on 60000 samples, validate on 10000 samples\n",
      "Epoch 1/12\n",
      "60000/60000 [==============================] - 6s 99us/step - loss: 0.2656 - acc: 0.9190 - val_loss: 0.0511 - val_acc: 0.9848\n",
      "Epoch 2/12\n",
      "60000/60000 [==============================] - 4s 71us/step - loss: 0.0784 - acc: 0.9787 - val_loss: 0.0408 - val_acc: 0.9878\n",
      "Epoch 3/12\n",
      "60000/60000 [==============================] - 5s 78us/step - loss: 0.0565 - acc: 0.9844 - val_loss: 0.0251 - val_acc: 0.9909\n",
      "Epoch 4/12\n",
      "60000/60000 [==============================] - 4s 72us/step - loss: 0.0459 - acc: 0.9875 - val_loss: 0.0252 - val_acc: 0.9923\n",
      "Epoch 5/12\n",
      "60000/60000 [==============================] - 4s 70us/step - loss: 0.0381 - acc: 0.9895 - val_loss: 0.0274 - val_acc: 0.9924\n",
      "Epoch 6/12\n",
      "60000/60000 [==============================] - 4s 70us/step - loss: 0.0308 - acc: 0.9914 - val_loss: 0.0299 - val_acc: 0.9909\n",
      "Epoch 7/12\n",
      "60000/60000 [==============================] - 4s 70us/step - loss: 0.0283 - acc: 0.9918 - val_loss: 0.0318 - val_acc: 0.9912\n",
      "Epoch 8/12\n",
      "60000/60000 [==============================] - 4s 70us/step - loss: 0.0272 - acc: 0.9927 - val_loss: 0.0238 - val_acc: 0.9926\n",
      "Epoch 9/12\n",
      "60000/60000 [==============================] - 4s 70us/step - loss: 0.0219 - acc: 0.9938 - val_loss: 0.0214 - val_acc: 0.9929\n",
      "Epoch 10/12\n",
      "60000/60000 [==============================] - 4s 69us/step - loss: 0.0207 - acc: 0.9942 - val_loss: 0.0214 - val_acc: 0.9938\n",
      "Epoch 11/12\n",
      "60000/60000 [==============================] - 4s 69us/step - loss: 0.0186 - acc: 0.9950 - val_loss: 0.0232 - val_acc: 0.9943\n",
      "Epoch 12/12\n",
      "60000/60000 [==============================] - 4s 72us/step - loss: 0.0171 - acc: 0.9952 - val_loss: 0.0248 - val_acc: 0.9932\n",
      "Test loss: 0.024832504260356155\n",
      "Test accuracy: 0.9932\n"
     ]
    }
   ],
   "source": [
    "\n",
    "\n",
    "model2 = Sequential()\n",
    "model2.add(Conv2D(8, kernel_size=(5, 5),padding='same',activation='relu',input_shape=input_shape))\n",
    "model2.add(MaxPooling2D(pool_size=(2, 2),padding='same'))\n",
    "model2.add(Conv2D(16, (5, 5),padding='same', activation='relu'))\n",
    "model2.add(Conv2D(32, (5, 5), activation='relu'))\n",
    "model2.add(MaxPooling2D(pool_size=(2, 2),padding='same'))\n",
    "model2.add(Dropout(0.25))\n",
    "model2.add(Conv2D(64, (5, 5), activation='relu',padding='same'))\n",
    "model2.add(Conv2D(64, (5, 5), activation='relu'))\n",
    "model2.add(MaxPooling2D(pool_size=(2, 2),padding='same'))\n",
    "\n",
    "model2.add(Dropout(0.25))\n",
    "model2.add(Flatten())\n",
    "model2.add(Dense(128, activation='relu'))\n",
    "model2.add(BatchNormalization())\n",
    "model2.add(Dropout(0.5))\n",
    "model2.add(Dense(num_classes, activation='softmax'))\n",
    "\n",
    "print(model2.summary())\n",
    "\n",
    "model2.compile(loss=keras.losses.categorical_crossentropy,optimizer=keras.optimizers.Adadelta(),metrics=['accuracy'])\n",
    "\n",
    "history=model2.fit(x_train, y_train,batch_size=batch_size,epochs=epochs,verbose=1,validation_data=(x_test, y_test))\n",
    "score = model2.evaluate(x_test, y_test, verbose=0)\n",
    "print('Test loss:', score[0])\n",
    "print('Test accuracy:', score[1])"
   ]
  },
  {
   "cell_type": "code",
   "execution_count": 0,
   "metadata": {
    "colab": {
     "base_uri": "https://localhost:8080/",
     "height": 319
    },
    "colab_type": "code",
    "id": "u__YNX9LUi5n",
    "outputId": "b9b8e404-64d8-4a8b-fdc4-c1d040eed8ef"
   },
   "outputs": [
    {
     "name": "stdout",
     "output_type": "stream",
     "text": [
      "Test score: 0.024832504260356155\n",
      "Test accuracy: 0.9932\n"
     ]
    },
    {
     "data": {
      "image/png": "[encoded data removed]",
      "text/plain": [
       "<Figure size 432x288 with 1 Axes>"
      ]
     },
     "metadata": {
      "tags": []
     },
     "output_type": "display_data"
    }
   ],
   "source": [
    "print('Test score:', score[0]) \n",
    "print('Test accuracy:', score[1])\n",
    "\n",
    "fig,ax = plt.subplots(1,1)\n",
    "ax.set_xlabel('epoch') ; ax.set_ylabel('Categorical Crossentropy Loss')\n",
    "\n",
    "# list of epoch numbers\n",
    "x = list(range(1,13))\n",
    "\n",
    "# print(history.history.keys())\n",
    "# dict_keys(['val_loss', 'val_acc', 'loss', 'acc'])\n",
    "# history = model_drop.fit(X_train, Y_train, batch_size=batch_size, epochs=nb_epoch, verbose=1, validation_data=(X_test, Y_test))\n",
    "\n",
    "# we will get val_loss and val_acc only when you pass the paramter validation_data\n",
    "# val_loss : validation loss\n",
    "# val_acc : validation accuracy\n",
    "\n",
    "# loss : training loss\n",
    "# acc : train accuracy\n",
    "# for each key in histrory.histrory we will have a list of length equal to number of epochs\n",
    "\n",
    "\n",
    "vy = history.history['val_loss']\n",
    "ty = history.history['loss']\n",
    "plt_dynamic(x, vy, ty, ax)"
   ]
  },
  {
   "cell_type": "markdown",
   "metadata": {
    "colab_type": "text",
    "id": "esuRqdsNUn2P"
   },
   "source": [
    "<h3>M3:seven conv layers-(max-pool,drop-out,batch-norm)  kernel 7*7"
   ]
  },
  {
   "cell_type": "code",
   "execution_count": 0,
   "metadata": {
    "colab": {
     "base_uri": "https://localhost:8080/",
     "height": 1321
    },
    "colab_type": "code",
    "id": "X8xTBXFyUm-Z",
    "outputId": "c67497d3-acc1-4aca-a022-33882c975f26"
   },
   "outputs": [
    {
     "name": "stdout",
     "output_type": "stream",
     "text": [
      "_________________________________________________________________\n",
      "Layer (type)                 Output Shape              Param #   \n",
      "=================================================================\n",
      "conv2d_44 (Conv2D)           (None, 28, 28, 32)        1600      \n",
      "_________________________________________________________________\n",
      "conv2d_45 (Conv2D)           (None, 28, 28, 32)        50208     \n",
      "_________________________________________________________________\n",
      "max_pooling2d_23 (MaxPooling (None, 10, 10, 32)        0         \n",
      "_________________________________________________________________\n",
      "dropout_14 (Dropout)         (None, 10, 10, 32)        0         \n",
      "_________________________________________________________________\n",
      "conv2d_46 (Conv2D)           (None, 10, 10, 64)        100416    \n",
      "_________________________________________________________________\n",
      "max_pooling2d_24 (MaxPooling (None, 5, 5, 64)          0         \n",
      "_________________________________________________________________\n",
      "conv2d_47 (Conv2D)           (None, 5, 5, 64)          200768    \n",
      "_________________________________________________________________\n",
      "conv2d_48 (Conv2D)           (None, 5, 5, 128)         401536    \n",
      "_________________________________________________________________\n",
      "max_pooling2d_25 (MaxPooling (None, 3, 3, 128)         0         \n",
      "_________________________________________________________________\n",
      "dropout_15 (Dropout)         (None, 3, 3, 128)         0         \n",
      "_________________________________________________________________\n",
      "conv2d_49 (Conv2D)           (None, 3, 3, 128)         802944    \n",
      "_________________________________________________________________\n",
      "conv2d_50 (Conv2D)           (None, 3, 3, 256)         1605888   \n",
      "_________________________________________________________________\n",
      "max_pooling2d_26 (MaxPooling (None, 2, 2, 256)         0         \n",
      "_________________________________________________________________\n",
      "dropout_16 (Dropout)         (None, 2, 2, 256)         0         \n",
      "_________________________________________________________________\n",
      "flatten_6 (Flatten)          (None, 1024)              0         \n",
      "_________________________________________________________________\n",
      "dense_9 (Dense)              (None, 128)               131200    \n",
      "_________________________________________________________________\n",
      "batch_normalization_4 (Batch (None, 128)               512       \n",
      "_________________________________________________________________\n",
      "dropout_17 (Dropout)         (None, 128)               0         \n",
      "_________________________________________________________________\n",
      "dense_10 (Dense)             (None, 10)                1290      \n",
      "=================================================================\n",
      "Total params: 3,296,362\n",
      "Trainable params: 3,296,106\n",
      "Non-trainable params: 256\n",
      "_________________________________________________________________\n",
      "None\n",
      "Train on 60000 samples, validate on 10000 samples\n",
      "Epoch 1/12\n",
      "60000/60000 [==============================] - 17s 290us/step - loss: 0.3705 - acc: 0.8747 - val_loss: 0.0681 - val_acc: 0.9814\n",
      "Epoch 2/12\n",
      "60000/60000 [==============================] - 15s 252us/step - loss: 0.0589 - acc: 0.9842 - val_loss: 0.0957 - val_acc: 0.9729\n",
      "Epoch 3/12\n",
      "60000/60000 [==============================] - 15s 253us/step - loss: 0.0415 - acc: 0.9886 - val_loss: 0.0352 - val_acc: 0.9896\n",
      "Epoch 4/12\n",
      "60000/60000 [==============================] - 15s 253us/step - loss: 0.0328 - acc: 0.9908 - val_loss: 0.0283 - val_acc: 0.9924\n",
      "Epoch 5/12\n",
      "60000/60000 [==============================] - 15s 251us/step - loss: 0.0251 - acc: 0.9931 - val_loss: 0.0294 - val_acc: 0.9923\n",
      "Epoch 6/12\n",
      "60000/60000 [==============================] - 15s 253us/step - loss: 0.0210 - acc: 0.9942 - val_loss: 0.0250 - val_acc: 0.9925\n",
      "Epoch 7/12\n",
      "60000/60000 [==============================] - 15s 252us/step - loss: 0.0183 - acc: 0.9950 - val_loss: 0.0204 - val_acc: 0.9942\n",
      "Epoch 8/12\n",
      "60000/60000 [==============================] - 15s 255us/step - loss: 0.0147 - acc: 0.9958 - val_loss: 0.0311 - val_acc: 0.9921\n",
      "Epoch 9/12\n",
      "60000/60000 [==============================] - 15s 252us/step - loss: 0.0126 - acc: 0.9966 - val_loss: 0.0258 - val_acc: 0.9939\n",
      "Epoch 10/12\n",
      "60000/60000 [==============================] - 15s 252us/step - loss: 0.0123 - acc: 0.9966 - val_loss: 0.0213 - val_acc: 0.9933\n",
      "Epoch 11/12\n",
      "60000/60000 [==============================] - 15s 252us/step - loss: 0.0093 - acc: 0.9974 - val_loss: 0.0329 - val_acc: 0.9933\n",
      "Epoch 12/12\n",
      "60000/60000 [==============================] - 15s 252us/step - loss: 0.0095 - acc: 0.9976 - val_loss: 0.0254 - val_acc: 0.9940\n",
      "Test loss: 0.025376197105148914\n",
      "Test accuracy: 0.994\n"
     ]
    }
   ],
   "source": [
    "model3 = Sequential()\n",
    "model3.add(Conv2D(32, kernel_size=(7, 7),padding='same',activation='relu',input_shape=input_shape))\n",
    "model3.add(Conv2D(32, (7, 7), activation='relu',padding='same'))\n",
    "model3.add(MaxPooling2D(pool_size=(3, 3),padding='same'))\n",
    "model3.add(Dropout(0.25))\n",
    "model3.add(Conv2D(64, (7, 7), activation='relu',padding='same'))\n",
    "model3.add(MaxPooling2D(pool_size=(2, 2),padding='same'))\n",
    "model3.add(Conv2D(64, (7, 7), activation='relu',padding='same'))\n",
    "model3.add(Conv2D(128, (7, 7), activation='relu',padding='same'))\n",
    "model3.add(MaxPooling2D(pool_size=(2, 2),padding='same'))\n",
    "model3.add(Dropout(0.25))\n",
    "model3.add(Conv2D(128, (7, 7), activation='relu',padding='same'))\n",
    "model3.add(Conv2D(256, (7, 7), activation='relu',padding='same'))\n",
    "model3.add(MaxPooling2D(pool_size=(2, 2),padding='same'))\n",
    "\n",
    "\n",
    "model3.add(Dropout(0.25))\n",
    "model3.add(Flatten())\n",
    "model3.add(Dense(128, activation='relu'))\n",
    "model3.add(BatchNormalization())\n",
    "model3.add(Dropout(0.5))\n",
    "model3.add(Dense(num_classes, activation='softmax'))\n",
    "\n",
    "print(model3.summary())\n",
    "\n",
    "model3.compile(loss=keras.losses.categorical_crossentropy,optimizer=keras.optimizers.Adadelta(),metrics=['accuracy'])\n",
    "\n",
    "history=model3.fit(x_train, y_train,batch_size=batch_size,epochs=epochs,verbose=1,validation_data=(x_test, y_test))\n",
    "score = model3.evaluate(x_test, y_test, verbose=0)\n",
    "print('Test loss:', score[0])\n",
    "print('Test accuracy:', score[1])"
   ]
  },
  {
   "cell_type": "code",
   "execution_count": 0,
   "metadata": {
    "colab": {
     "base_uri": "https://localhost:8080/",
     "height": 319
    },
    "colab_type": "code",
    "id": "qMN28qy4XUZl",
    "outputId": "bcbcc244-870a-4583-9313-58400575c8a6"
   },
   "outputs": [
    {
     "name": "stdout",
     "output_type": "stream",
     "text": [
      "Test score: 0.025376197105148914\n",
      "Test accuracy: 0.994\n"
     ]
    },
    {
     "data": {
      "image/png": "[encoded data removed]",
      "text/plain": [
       "<Figure size 432x288 with 1 Axes>"
      ]
     },
     "metadata": {
      "tags": []
     },
     "output_type": "display_data"
    }
   ],
   "source": [
    "print('Test score:', score[0]) \n",
    "print('Test accuracy:', score[1])\n",
    "\n",
    "fig,ax = plt.subplots(1,1)\n",
    "ax.set_xlabel('epoch') ; ax.set_ylabel('Categorical Crossentropy Loss')\n",
    "\n",
    "# list of epoch numbers\n",
    "x = list(range(1,13))\n",
    "\n",
    "# print(history.history.keys())\n",
    "# dict_keys(['val_loss', 'val_acc', 'loss', 'acc'])\n",
    "# history = model_drop.fit(X_train, Y_train, batch_size=batch_size, epochs=nb_epoch, verbose=1, validation_data=(X_test, Y_test))\n",
    "\n",
    "# we will get val_loss and val_acc only when you pass the paramter validation_data\n",
    "# val_loss : validation loss\n",
    "# val_acc : validation accuracy\n",
    "\n",
    "# loss : training loss\n",
    "# acc : train accuracy\n",
    "# for each key in histrory.histrory we will have a list of length equal to number of epochs\n",
    "\n",
    "\n",
    "vy = history.history['val_loss']\n",
    "ty = history.history['loss']\n",
    "plt_dynamic(x, vy, ty, ax)"
   ]
  },
  {
   "cell_type": "markdown",
   "metadata": {
    "colab_type": "text",
    "id": "DeO_s9DuXv3x"
   },
   "source": [
    "<h1>procedure"
   ]
  },
  {
   "cell_type": "markdown",
   "metadata": {
    "colab_type": "text",
    "id": "Be1RZYO6Yc3q"
   },
   "source": [
    "\n",
    "\n",
    "    1.Load MNIST dataset\n",
    "    2.Split the dataset into train and test\n",
    "    3.Normalize the train and test data\n",
    "    4.Convert class variable into categorical data vector\n",
    "    5.Implement Softmax classifier with 3, 5 and 7 conv layers .\n",
    "    6.Use kernel -size (3X3) , (5X5) and (7,7) .\n",
    "    7.Draw Categorical Crossentropy Loss VS No.of Epochs plot .\n",
    "\n"
   ]
  },
  {
   "cell_type": "code",
   "execution_count": 0,
   "metadata": {
    "colab": {
     "base_uri": "https://localhost:8080/",
     "height": 142
    },
    "colab_type": "code",
    "id": "2lKZE6ToYsbx",
    "outputId": "67122eb2-0d05-46ba-8635-2cd565cf5777"
   },
   "outputs": [
    {
     "name": "stdout",
     "output_type": "stream",
     "text": [
      "+-------+---------------------------------------------+-------------------+---------------+\n",
      "| S.NO. |                    MODEL                    | Training Accuracy | Test Accuracy |\n",
      "+-------+---------------------------------------------+-------------------+---------------+\n",
      "|   1   | CNN(3-Conv layers) With Kernel-size = (3,3) |       0.9927      |     0.9937    |\n",
      "|   2   | CNN(5-Conv layers) With Kernel-size = (5,5) |       0.9952      |     0.9932    |\n",
      "|   3   | CNN(7-Conv layers) With Kernel-size = (7,7) |       0.9976      |     0.994     |\n",
      "+-------+---------------------------------------------+-------------------+---------------+\n"
     ]
    }
   ],
   "source": [
    "# Creating table using PrettyTable library\n",
    "from prettytable import PrettyTable\n",
    "\n",
    "# Names of models\n",
    "names = ['CNN(3-Conv layers) With Kernel-size = (3,3)','CNN(5-Conv layers) With Kernel-size = (5,5)','CNN(7-Conv layers) With Kernel-size = (7,7)']\n",
    "\n",
    "# Training accuracies\n",
    "train_acc = [0.9927,0.9952,0.9976]\n",
    "\n",
    "# Test accuracies\n",
    "test_acc = [0.9937,0.9932,0.994]\n",
    "\n",
    "numbering = [1,2,3]\n",
    "\n",
    "# Initializing prettytable\n",
    "ptable = PrettyTable()\n",
    "\n",
    "# Adding columns\n",
    "ptable.add_column(\"S.NO.\",numbering)\n",
    "ptable.add_column(\"MODEL\",names)\n",
    "ptable.add_column(\"Training Accuracy\",train_acc)\n",
    "ptable.add_column(\"Test Accuracy\",test_acc)\n",
    "\n",
    "# Printing the Table\n",
    "print(ptable)"
   ]
  }
 ],
 "metadata": {
  "accelerator": "GPU",
  "colab": {
   "collapsed_sections": [],
   "name": "CNN_MNIST.ipynb",
   "provenance": [],
   "version": "0.3.2"
  },
  "kernelspec": {
   "display_name": "Python 3",
   "language": "python",
   "name": "python3"
  },
  "language_info": {
   "codemirror_mode": {
    "name": "ipython",
    "version": 3
   },
   "file_extension": ".py",
   "mimetype": "text/x-python",
   "name": "python",
   "nbconvert_exporter": "python",
   "pygments_lexer": "ipython3",
   "version": "3.6.4"
  }
 },
 "nbformat": 4,
 "nbformat_minor": 1
}
